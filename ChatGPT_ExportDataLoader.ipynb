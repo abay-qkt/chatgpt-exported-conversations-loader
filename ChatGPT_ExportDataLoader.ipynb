{
  "nbformat": 4,
  "nbformat_minor": 0,
  "metadata": {
    "colab": {
      "provenance": [],
      "authorship_tag": "ABX9TyOc6K1pDujCHcrgqjrDRoxm",
      "include_colab_link": true
    },
    "kernelspec": {
      "name": "python3",
      "display_name": "Python 3"
    },
    "language_info": {
      "name": "python"
    }
  },
  "cells": [
    {
      "cell_type": "markdown",
      "metadata": {
        "id": "view-in-github",
        "colab_type": "text"
      },
      "source": [
        "<a href=\"https://colab.research.google.com/github/abay-qkt/chatgpt-exported-conversations-loader/blob/main/ChatGPT_ExportDataLoader.ipynb\" target=\"_parent\"><img src=\"https://colab.research.google.com/assets/colab-badge.svg\" alt=\"Open In Colab\"/></a>"
      ]
    },
    {
      "cell_type": "markdown",
      "source": [
        "# 準備"
      ],
      "metadata": {
        "id": "XII7LRSu1yeg"
      }
    },
    {
      "cell_type": "code",
      "execution_count": null,
      "metadata": {
        "id": "X9f1BfW41jcp"
      },
      "outputs": [],
      "source": [
        "from google.colab import drive\n",
        "drive.mount('/content/drive')"
      ]
    },
    {
      "cell_type": "code",
      "source": [
        "import pandas as pd\n",
        "import numpy as np\n",
        "\n",
        "import json\n",
        "from pathlib import Path\n",
        "\n",
        "import ipywidgets as widgets\n",
        "from IPython.display import HTML\n",
        "\n",
        "import plotly.graph_objs as go\n",
        "import plotly.express as px\n",
        "\n",
        "from google.colab import output\n",
        "output.enable_custom_widget_manager()"
      ],
      "metadata": {
        "id": "0JaVUuGP1pGd"
      },
      "execution_count": null,
      "outputs": []
    },
    {
      "cell_type": "code",
      "source": [
        "parent_path=Path(\"/content/drive/MyDrive/\")"
      ],
      "metadata": {
        "id": "ngQ1Ujf91pD3"
      },
      "execution_count": null,
      "outputs": []
    },
    {
      "cell_type": "code",
      "source": [
        "with open(parent_path/'conversations.json') as f:\n",
        "  conv = json.load(f)\n",
        "\n",
        "conv_df = pd.DataFrame(conv)\n",
        "conv_df[\"mapping\"] = conv_df[\"mapping\"].map(lambda x:x.values()) # 辞書の中身だけ取り出す。（keyは中身に含まれていたので不要）\n",
        "conv_df = conv_df.explode(\"mapping\",ignore_index=True).reset_index(drop=True) # mapping列を行方向に展開\n",
        "conv_df = pd.concat([\n",
        "    conv_df.drop([\"mapping\"],axis=1),\n",
        "    pd.json_normalize(conv_df[\"mapping\"])  # mapping列の情報が列方向に展開される\n",
        "],axis=1)\n",
        "conv_df = conv_df.sort_values([\"create_time\",\"message.create_time\"]).reset_index(drop=True)\n",
        "\n",
        "# 日付型への変換\n",
        "time_cols = ['create_time', 'update_time', 'message.create_time','message.update_time']\n",
        "for col in time_cols:\n",
        "  conv_df[col]=pd.to_datetime(conv_df[col],unit='s')\n",
        "\n",
        "# テキストの抽出\n",
        "def get_text_from_parts(parts):\n",
        "  if type(parts)==list:\n",
        "    texts = [p for p in parts if type(p)==str]  # 文字列要素のみ取得\n",
        "    return \"\\n\\n\".join(texts)\n",
        "  else:\n",
        "    return np.nan\n",
        "conv_df[\"message_text\"] = conv_df[\"message.content.parts\"].map(get_text_from_parts)"
      ],
      "metadata": {
        "id": "Xf3lD_h91o_K"
      },
      "execution_count": null,
      "outputs": []
    },
    {
      "cell_type": "code",
      "source": [
        "def get_hyperlink(conversation_id,title):\n",
        "  url = f\"https://chatgpt.com/c/{conversation_id}\"\n",
        "  link = f'<a href=\"{url}\">{title}</a>'\n",
        "  return link\n",
        "\n",
        "def get_conv_html_str(conversation_id,title,create_time,message_head):\n",
        "  link=get_hyperlink(conversation_id,title)\n",
        "  html_str = create_time.strftime(\"%Y-%m-%d %H:%M:%S\")+\"<br>\"\n",
        "  html_str += link+\": \"\n",
        "  html_str += message_head\n",
        "  return html_str"
      ],
      "metadata": {
        "id": "pr46lKtJ1o81"
      },
      "execution_count": null,
      "outputs": []
    },
    {
      "cell_type": "code",
      "source": [
        "conv_df[\"week_monday\"] = (conv_df[\"create_time\"]-pd.to_timedelta(conv_df[\"create_time\"].dt.weekday, unit=\"D\")).dt.strftime(\"%Y-%m-%d\")\n",
        "conv_info1 = conv_df[[\"conversation_id\",\"week_monday\",\"create_time\",\"update_time\",\"title\"]].drop_duplicates()\n",
        "conv_info2 = (\n",
        "    conv_df[conv_df[\"message.author.role\"]=='user']\n",
        "    .sort_values(\"message.create_time\")\n",
        "    .groupby(\"conversation_id\",as_index=False)[\"message_text\"]\n",
        "    .agg([\"first\",\"size\"])\n",
        "    .rename(columns={\"first\":\"first_message\",\"size\":\"message_count\"})\n",
        ")\n",
        "conv_info = pd.merge(\n",
        "    conv_info1,\n",
        "    conv_info2,\n",
        "    on='conversation_id'\n",
        ")\n",
        "conv_info[\"create_time_\"]=conv_info[\"create_time\"].dt.round('s')\n",
        "conv_info[\"hyperlink\"]=conv_info.apply(lambda x:get_hyperlink(x[\"conversation_id\"],x[\"title\"]),axis=1)\n",
        "conv_info[\"message_head\"]=conv_info[\"first_message\"].str[:60]\n",
        "conv_info[\"html_str\"]=conv_info.apply(lambda x:get_conv_html_str(\n",
        "    x[\"conversation_id\"],x[\"title\"],x[\"create_time_\"],x[\"message_head\"]),axis=1)\n",
        "\n",
        "conv_info_weekly = (\n",
        "    conv_info.groupby(\"week_monday\",as_index=False)[\"message_count\"]\n",
        "    .agg([\"sum\",\"size\"])\n",
        "    .rename(columns={\"sum\":\"message_count\",\"size\":\"conversation_count\"})\n",
        ")"
      ],
      "metadata": {
        "id": "3f8ta3ff1vVK"
      },
      "execution_count": null,
      "outputs": []
    },
    {
      "cell_type": "code",
      "source": [
        "# 出力エリア\n",
        "out = widgets.Output()\n",
        "\n",
        "# FigureWidget作成\n",
        "fig = go.FigureWidget(\n",
        "    px.bar(conv_info_weekly, x=\"week_monday\", y=\"message_count\")\n",
        ")\n",
        "fig.update_layout(\n",
        "    xaxis=dict(tickformat=\"%Y/%m/%d\", rangeslider=dict(visible=True), type=\"date\"),\n",
        "    margin=dict(l=10,r=10,t=30,b=10)\n",
        ")\n",
        "\n",
        "# クリック時のコールバック\n",
        "def on_bar_click(trace, points, selector):\n",
        "    if not points.point_inds:\n",
        "        return\n",
        "    idx = points.point_inds[0]\n",
        "    selected_date = conv_info_weekly.loc[idx, \"week_monday\"]\n",
        "\n",
        "    filtered = conv_info[conv_info[\"week_monday\"] == selected_date][\"html_str\"]\n",
        "\n",
        "    with out:\n",
        "        out.clear_output(wait=True)  # 前の表示を消す\n",
        "        display(HTML(\"<br><br>\".join(filtered)))\n",
        "\n",
        "# イベント登録\n",
        "fig.data[0].on_click(on_bar_click)"
      ],
      "metadata": {
        "id": "IFpcFKCh1vSz"
      },
      "execution_count": null,
      "outputs": []
    },
    {
      "cell_type": "markdown",
      "source": [
        "# 表示"
      ],
      "metadata": {
        "id": "RU6MWMP_10nt"
      }
    },
    {
      "cell_type": "code",
      "source": [
        "# 棒をクリックすると、その週のチャットへのリンクが表示されます\n",
        "display(fig, out)"
      ],
      "metadata": {
        "id": "1ul0WONb1vQu"
      },
      "execution_count": null,
      "outputs": []
    },
    {
      "cell_type": "code",
      "source": [],
      "metadata": {
        "id": "Wv5XYYPL1mVZ"
      },
      "execution_count": null,
      "outputs": []
    }
  ]
}